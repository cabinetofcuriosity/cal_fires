{
 "cells": [
  {
   "cell_type": "markdown",
   "metadata": {},
   "source": [
    "This dataset comes from the [Cal Fires website](http://frap.fire.ca.gov/data/frapgisdata-sw-fireperimeters_download). Data from 1878-2017 is available. Information on table attributes can be found [here](http://frap.fire.ca.gov/projects/fire_data/fire_perimeters_data_description), while information about data collection can be found [here](http://frap.fire.ca.gov/projects/fire_data/fire_perimeters_index). "
   ]
  },
  {
   "cell_type": "markdown",
   "metadata": {},
   "source": [
    "# Plan \n",
    "\n",
    "-- trend of causes... have human-caused ones increased? \n",
    "\n",
    "-- wildfire season longer? See how many big ones happen per month\n",
    "\n",
    "-- wildfires occur more in general? See how many occur per year\n",
    "\n",
    "-- look at counties... does one area have more than others? \n",
    "\n",
    "-- potentially see how biodiversity is affected\n",
    "\n",
    "-- timeseries months&year trend: https://plot.ly/python/time-series/"
   ]
  },
  {
   "cell_type": "code",
   "execution_count": 12,
   "metadata": {},
   "outputs": [],
   "source": [
    "import numpy as np\n",
    "import pandas as pd\n",
    "import plotly.plotly as py\n",
    "#import to run offline \n",
    "import plotly.graph_objs as go\n",
    "from plotly.offline import download_plotlyjs, init_notebook_mode, plot, iplot"
   ]
  },
  {
   "cell_type": "code",
   "execution_count": 15,
   "metadata": {},
   "outputs": [
    {
     "data": {
      "text/html": [
       "<script>requirejs.config({paths: { 'plotly': ['https://cdn.plot.ly/plotly-latest.min']},});if(!window.Plotly) {{require(['plotly'],function(plotly) {window.Plotly=plotly;});}}</script>"
      ],
      "text/vnd.plotly.v1+html": [
       "<script>requirejs.config({paths: { 'plotly': ['https://cdn.plot.ly/plotly-latest.min']},});if(!window.Plotly) {{require(['plotly'],function(plotly) {window.Plotly=plotly;});}}</script>"
      ]
     },
     "metadata": {},
     "output_type": "display_data"
    }
   ],
   "source": [
    "#call to run offline\n",
    "init_notebook_mode(connected=True)"
   ]
  },
  {
   "cell_type": "code",
   "execution_count": 17,
   "metadata": {},
   "outputs": [],
   "source": [
    "df17 = pd.read_csv('~/URAP/cal_fires/data/calfires17.csv')\n",
    "dfPast = pd.read_csv('~/URAP/cal_fires/data/calfires1878_2016.csv')\n",
    "#rename the \"YEAR_\" column in dfFires so that we can append the past fires to it and have the \"YEAR\" \n",
    "#columns match up \n",
    "df17.rename(columns={'YEAR_': 'YEAR'}, inplace=True)"
   ]
  },
  {
   "cell_type": "code",
   "execution_count": 94,
   "metadata": {},
   "outputs": [],
   "source": [
    "#past_fires.where(isinstance(\"YEAR\", int)).sort(\"YEAR\", descending = True)\n",
    "#we see null and nan values in this table! \n"
   ]
  },
  {
   "cell_type": "code",
   "execution_count": 18,
   "metadata": {},
   "outputs": [
    {
     "data": {
      "text/html": [
       "<div>\n",
       "<style scoped>\n",
       "    .dataframe tbody tr th:only-of-type {\n",
       "        vertical-align: middle;\n",
       "    }\n",
       "\n",
       "    .dataframe tbody tr th {\n",
       "        vertical-align: top;\n",
       "    }\n",
       "\n",
       "    .dataframe thead th {\n",
       "        text-align: right;\n",
       "    }\n",
       "</style>\n",
       "<table border=\"1\" class=\"dataframe\">\n",
       "  <thead>\n",
       "    <tr style=\"text-align: right;\">\n",
       "      <th></th>\n",
       "      <th>YEAR</th>\n",
       "      <th>STATE</th>\n",
       "      <th>AGENCY</th>\n",
       "      <th>UNIT_ID</th>\n",
       "      <th>FIRE_NAME</th>\n",
       "      <th>INC_NUM</th>\n",
       "      <th>ALARM_DATE</th>\n",
       "      <th>CONT_DATE</th>\n",
       "      <th>CAUSE</th>\n",
       "      <th>COMMENTS</th>\n",
       "      <th>REPORT_AC</th>\n",
       "      <th>GIS_ACRES</th>\n",
       "      <th>C_METHOD</th>\n",
       "      <th>OBJECTIVE</th>\n",
       "    </tr>\n",
       "  </thead>\n",
       "  <tbody>\n",
       "    <tr>\n",
       "      <th>0</th>\n",
       "      <td>2017</td>\n",
       "      <td>California</td>\n",
       "      <td>California Department of Forestry and Fire Pro...</td>\n",
       "      <td>Tulare County</td>\n",
       "      <td>DINELY</td>\n",
       "      <td>286</td>\n",
       "      <td>6/7/2017</td>\n",
       "      <td>6/11/2017</td>\n",
       "      <td>2 - Equipment Use</td>\n",
       "      <td>&lt;Null&gt;</td>\n",
       "      <td>339</td>\n",
       "      <td>340.5638</td>\n",
       "      <td>1 - GPS Ground</td>\n",
       "      <td>Suppression (Wildfire)</td>\n",
       "    </tr>\n",
       "    <tr>\n",
       "      <th>1</th>\n",
       "      <td>2017</td>\n",
       "      <td>California</td>\n",
       "      <td>California Department of Forestry and Fire Pro...</td>\n",
       "      <td>Tulare County</td>\n",
       "      <td>ROADRUNNER</td>\n",
       "      <td>441</td>\n",
       "      <td>7/30/2017</td>\n",
       "      <td>8/1/2017</td>\n",
       "      <td>7 - Arson</td>\n",
       "      <td>&lt;Null&gt;</td>\n",
       "      <td>2289</td>\n",
       "      <td>2284.5960</td>\n",
       "      <td>1 - GPS Ground</td>\n",
       "      <td>Suppression (Wildfire)</td>\n",
       "    </tr>\n",
       "    <tr>\n",
       "      <th>2</th>\n",
       "      <td>2017</td>\n",
       "      <td>California</td>\n",
       "      <td>California Department of Forestry and Fire Pro...</td>\n",
       "      <td>Tulare County</td>\n",
       "      <td>ELEPHANT 2</td>\n",
       "      <td>420</td>\n",
       "      <td>7/20/2017</td>\n",
       "      <td>7/22/2017</td>\n",
       "      <td>7 - Arson</td>\n",
       "      <td>&lt;Null&gt;</td>\n",
       "      <td>416</td>\n",
       "      <td>415.2116</td>\n",
       "      <td>1 - GPS Ground</td>\n",
       "      <td>Suppression (Wildfire)</td>\n",
       "    </tr>\n",
       "    <tr>\n",
       "      <th>3</th>\n",
       "      <td>2017</td>\n",
       "      <td>California</td>\n",
       "      <td>California Department of Forestry and Fire Pro...</td>\n",
       "      <td>Tehama - Glenn CAL FIRE</td>\n",
       "      <td>TEHAMA</td>\n",
       "      <td>10345</td>\n",
       "      <td>10/30/2017</td>\n",
       "      <td>10/31/2017</td>\n",
       "      <td>10 - Vehicle</td>\n",
       "      <td>&lt;Null&gt;</td>\n",
       "      <td>194</td>\n",
       "      <td>194.0017</td>\n",
       "      <td>1 - GPS Ground</td>\n",
       "      <td>Suppression (Wildfire)</td>\n",
       "    </tr>\n",
       "    <tr>\n",
       "      <th>4</th>\n",
       "      <td>2017</td>\n",
       "      <td>California</td>\n",
       "      <td>California Department of Forestry and Fire Pro...</td>\n",
       "      <td>Tuolumne - Calaveras CAL FIRE</td>\n",
       "      <td>JACKSONVILLE</td>\n",
       "      <td>9024</td>\n",
       "      <td>7/29/2017</td>\n",
       "      <td>7/30/2017</td>\n",
       "      <td>14 - Unknown / Unidentified</td>\n",
       "      <td>&lt;Null&gt;</td>\n",
       "      <td>&lt;Null&gt;</td>\n",
       "      <td>684.3565</td>\n",
       "      <td>1 - GPS Ground</td>\n",
       "      <td>Suppression (Wildfire)</td>\n",
       "    </tr>\n",
       "  </tbody>\n",
       "</table>\n",
       "</div>"
      ],
      "text/plain": [
       "   YEAR       STATE                                             AGENCY  \\\n",
       "0  2017  California  California Department of Forestry and Fire Pro...   \n",
       "1  2017  California  California Department of Forestry and Fire Pro...   \n",
       "2  2017  California  California Department of Forestry and Fire Pro...   \n",
       "3  2017  California  California Department of Forestry and Fire Pro...   \n",
       "4  2017  California  California Department of Forestry and Fire Pro...   \n",
       "\n",
       "                         UNIT_ID     FIRE_NAME INC_NUM  ALARM_DATE  \\\n",
       "0                  Tulare County        DINELY     286    6/7/2017   \n",
       "1                  Tulare County    ROADRUNNER     441   7/30/2017   \n",
       "2                  Tulare County    ELEPHANT 2     420   7/20/2017   \n",
       "3        Tehama - Glenn CAL FIRE        TEHAMA   10345  10/30/2017   \n",
       "4  Tuolumne - Calaveras CAL FIRE  JACKSONVILLE    9024   7/29/2017   \n",
       "\n",
       "    CONT_DATE                        CAUSE COMMENTS REPORT_AC  GIS_ACRES  \\\n",
       "0   6/11/2017            2 - Equipment Use   <Null>       339   340.5638   \n",
       "1    8/1/2017                    7 - Arson   <Null>      2289  2284.5960   \n",
       "2   7/22/2017                    7 - Arson   <Null>       416   415.2116   \n",
       "3  10/31/2017                 10 - Vehicle   <Null>       194   194.0017   \n",
       "4   7/30/2017  14 - Unknown / Unidentified   <Null>    <Null>   684.3565   \n",
       "\n",
       "         C_METHOD               OBJECTIVE  \n",
       "0  1 - GPS Ground  Suppression (Wildfire)  \n",
       "1  1 - GPS Ground  Suppression (Wildfire)  \n",
       "2  1 - GPS Ground  Suppression (Wildfire)  \n",
       "3  1 - GPS Ground  Suppression (Wildfire)  \n",
       "4  1 - GPS Ground  Suppression (Wildfire)  "
      ]
     },
     "execution_count": 18,
     "metadata": {},
     "output_type": "execute_result"
    }
   ],
   "source": [
    "#merge these tables together \n",
    "total_fires = df17.append(dfPast)\n",
    "total_fires.head()\n",
    "##fires = Table.from_df(total_fires)\n",
    "##fires.sort('YEAR', descending=True)\n",
    "#sort to see that we still need to clean data\n",
    "\n",
    "#tbl_total_fires=Table.from_df(total_fires)\n",
    "#tbl_total_fires.sort('YEAR', descending=True)"
   ]
  },
  {
   "cell_type": "code",
   "execution_count": 19,
   "metadata": {},
   "outputs": [
    {
     "data": {
      "text/plain": [
       "array([2017, 2018, '1878', '1895', '1896', '1898', '1900', '1902', '1903',\n",
       "       '1905', '1906', '1907', '1908', '1909', '1910', '1911', '1912',\n",
       "       '1913', '1914', '1915', '1916', '1917', '1918', '1919', '1920',\n",
       "       '1921', '1922', '1923', '1924', '1925', '1926', '1927', '1928',\n",
       "       '1929', '1930', '1931', '1932', '1933', '1934', '1935', '1936',\n",
       "       '1937', '1938', '1939', '1940', '1941', '1942', '1943', '1944',\n",
       "       '1945', '1946', '1947', '1948', '1949', '1950', '1951', '1952',\n",
       "       '1953', '1954', '1955', '1956', '1957', '1958', '1959', '1960',\n",
       "       '1961', '1962', '1963', '1964', '1965', '1966', '1967', '1968',\n",
       "       '1969', '1970', '1971', '1972', '1973', '1974', '1975', '1976',\n",
       "       '1977', '1978', '1979', '1980', '1981', '1982', '1983', '1984',\n",
       "       '1985', '1986', '1987', '1988', '1989', '1990', '1991', '1992',\n",
       "       '1993', '1994', '1995', '1996', '1997', '1998', '1999', '2000',\n",
       "       '2001', '2002', '2003', '2004', '2005', '2006', '2007', '2008',\n",
       "       '2009', '2010', '2011', '2012', '2013', '2014', '2015', '2016',\n",
       "       '<Null>', nan], dtype=object)"
      ]
     },
     "execution_count": 19,
     "metadata": {},
     "output_type": "execute_result"
    }
   ],
   "source": [
    "total_fires['YEAR'].unique()\n",
    "#there are null and nans in our data! Get rid of these from the YEAR column "
   ]
  },
  {
   "cell_type": "code",
   "execution_count": 20,
   "metadata": {},
   "outputs": [
    {
     "data": {
      "text/html": [
       "<div>\n",
       "<style scoped>\n",
       "    .dataframe tbody tr th:only-of-type {\n",
       "        vertical-align: middle;\n",
       "    }\n",
       "\n",
       "    .dataframe tbody tr th {\n",
       "        vertical-align: top;\n",
       "    }\n",
       "\n",
       "    .dataframe thead th {\n",
       "        text-align: right;\n",
       "    }\n",
       "</style>\n",
       "<table border=\"1\" class=\"dataframe\">\n",
       "  <thead>\n",
       "    <tr style=\"text-align: right;\">\n",
       "      <th></th>\n",
       "      <th>YEAR</th>\n",
       "      <th>STATE</th>\n",
       "      <th>AGENCY</th>\n",
       "      <th>UNIT_ID</th>\n",
       "      <th>FIRE_NAME</th>\n",
       "      <th>INC_NUM</th>\n",
       "      <th>ALARM_DATE</th>\n",
       "      <th>CONT_DATE</th>\n",
       "      <th>CAUSE</th>\n",
       "      <th>COMMENTS</th>\n",
       "      <th>REPORT_AC</th>\n",
       "      <th>GIS_ACRES</th>\n",
       "      <th>C_METHOD</th>\n",
       "      <th>OBJECTIVE</th>\n",
       "    </tr>\n",
       "  </thead>\n",
       "  <tbody>\n",
       "    <tr>\n",
       "      <th>0</th>\n",
       "      <td>2017</td>\n",
       "      <td>California</td>\n",
       "      <td>California Department of Forestry and Fire Pro...</td>\n",
       "      <td>Tulare County</td>\n",
       "      <td>DINELY</td>\n",
       "      <td>286</td>\n",
       "      <td>6/7/2017</td>\n",
       "      <td>6/11/2017</td>\n",
       "      <td>2 - Equipment Use</td>\n",
       "      <td>&lt;Null&gt;</td>\n",
       "      <td>339</td>\n",
       "      <td>340.5638</td>\n",
       "      <td>1 - GPS Ground</td>\n",
       "      <td>Suppression (Wildfire)</td>\n",
       "    </tr>\n",
       "    <tr>\n",
       "      <th>1</th>\n",
       "      <td>2017</td>\n",
       "      <td>California</td>\n",
       "      <td>California Department of Forestry and Fire Pro...</td>\n",
       "      <td>Tulare County</td>\n",
       "      <td>ROADRUNNER</td>\n",
       "      <td>441</td>\n",
       "      <td>7/30/2017</td>\n",
       "      <td>8/1/2017</td>\n",
       "      <td>7 - Arson</td>\n",
       "      <td>&lt;Null&gt;</td>\n",
       "      <td>2289</td>\n",
       "      <td>2284.5960</td>\n",
       "      <td>1 - GPS Ground</td>\n",
       "      <td>Suppression (Wildfire)</td>\n",
       "    </tr>\n",
       "    <tr>\n",
       "      <th>2</th>\n",
       "      <td>2017</td>\n",
       "      <td>California</td>\n",
       "      <td>California Department of Forestry and Fire Pro...</td>\n",
       "      <td>Tulare County</td>\n",
       "      <td>ELEPHANT 2</td>\n",
       "      <td>420</td>\n",
       "      <td>7/20/2017</td>\n",
       "      <td>7/22/2017</td>\n",
       "      <td>7 - Arson</td>\n",
       "      <td>&lt;Null&gt;</td>\n",
       "      <td>416</td>\n",
       "      <td>415.2116</td>\n",
       "      <td>1 - GPS Ground</td>\n",
       "      <td>Suppression (Wildfire)</td>\n",
       "    </tr>\n",
       "    <tr>\n",
       "      <th>3</th>\n",
       "      <td>2017</td>\n",
       "      <td>California</td>\n",
       "      <td>California Department of Forestry and Fire Pro...</td>\n",
       "      <td>Tehama - Glenn CAL FIRE</td>\n",
       "      <td>TEHAMA</td>\n",
       "      <td>10345</td>\n",
       "      <td>10/30/2017</td>\n",
       "      <td>10/31/2017</td>\n",
       "      <td>10 - Vehicle</td>\n",
       "      <td>&lt;Null&gt;</td>\n",
       "      <td>194</td>\n",
       "      <td>194.0017</td>\n",
       "      <td>1 - GPS Ground</td>\n",
       "      <td>Suppression (Wildfire)</td>\n",
       "    </tr>\n",
       "    <tr>\n",
       "      <th>4</th>\n",
       "      <td>2017</td>\n",
       "      <td>California</td>\n",
       "      <td>California Department of Forestry and Fire Pro...</td>\n",
       "      <td>Tuolumne - Calaveras CAL FIRE</td>\n",
       "      <td>JACKSONVILLE</td>\n",
       "      <td>9024</td>\n",
       "      <td>7/29/2017</td>\n",
       "      <td>7/30/2017</td>\n",
       "      <td>14 - Unknown / Unidentified</td>\n",
       "      <td>&lt;Null&gt;</td>\n",
       "      <td>&lt;Null&gt;</td>\n",
       "      <td>684.3565</td>\n",
       "      <td>1 - GPS Ground</td>\n",
       "      <td>Suppression (Wildfire)</td>\n",
       "    </tr>\n",
       "  </tbody>\n",
       "</table>\n",
       "</div>"
      ],
      "text/plain": [
       "   YEAR       STATE                                             AGENCY  \\\n",
       "0  2017  California  California Department of Forestry and Fire Pro...   \n",
       "1  2017  California  California Department of Forestry and Fire Pro...   \n",
       "2  2017  California  California Department of Forestry and Fire Pro...   \n",
       "3  2017  California  California Department of Forestry and Fire Pro...   \n",
       "4  2017  California  California Department of Forestry and Fire Pro...   \n",
       "\n",
       "                         UNIT_ID     FIRE_NAME INC_NUM  ALARM_DATE  \\\n",
       "0                  Tulare County        DINELY     286    6/7/2017   \n",
       "1                  Tulare County    ROADRUNNER     441   7/30/2017   \n",
       "2                  Tulare County    ELEPHANT 2     420   7/20/2017   \n",
       "3        Tehama - Glenn CAL FIRE        TEHAMA   10345  10/30/2017   \n",
       "4  Tuolumne - Calaveras CAL FIRE  JACKSONVILLE    9024   7/29/2017   \n",
       "\n",
       "    CONT_DATE                        CAUSE COMMENTS REPORT_AC  GIS_ACRES  \\\n",
       "0   6/11/2017            2 - Equipment Use   <Null>       339   340.5638   \n",
       "1    8/1/2017                    7 - Arson   <Null>      2289  2284.5960   \n",
       "2   7/22/2017                    7 - Arson   <Null>       416   415.2116   \n",
       "3  10/31/2017                 10 - Vehicle   <Null>       194   194.0017   \n",
       "4   7/30/2017  14 - Unknown / Unidentified   <Null>    <Null>   684.3565   \n",
       "\n",
       "         C_METHOD               OBJECTIVE  \n",
       "0  1 - GPS Ground  Suppression (Wildfire)  \n",
       "1  1 - GPS Ground  Suppression (Wildfire)  \n",
       "2  1 - GPS Ground  Suppression (Wildfire)  \n",
       "3  1 - GPS Ground  Suppression (Wildfire)  \n",
       "4  1 - GPS Ground  Suppression (Wildfire)  "
      ]
     },
     "execution_count": 20,
     "metadata": {},
     "output_type": "execute_result"
    }
   ],
   "source": [
    "#get rid of null values in YEAR column \n",
    "no_nulls = total_fires[total_fires[\"YEAR\"] != \"<Null>\"]\n",
    "x = no_nulls[\"YEAR\"].unique()[-1]\n",
    "#get rid of nan\n",
    "no_nulls = no_nulls[no_nulls[\"YEAR\"].notna()]\n",
    "no_nulls.head()"
   ]
  },
  {
   "cell_type": "code",
   "execution_count": 21,
   "metadata": {},
   "outputs": [
    {
     "data": {
      "text/plain": [
       "array(['YEAR', 'STATE', 'AGENCY', 'UNIT_ID', 'FIRE_NAME', 'INC_NUM',\n",
       "       'ALARM_DATE', 'CONT_DATE', 'CAUSE', 'COMMENTS', 'REPORT_AC',\n",
       "       'GIS_ACRES', 'C_METHOD', 'OBJECTIVE'], dtype=object)"
      ]
     },
     "execution_count": 21,
     "metadata": {},
     "output_type": "execute_result"
    }
   ],
   "source": [
    "no_nulls.columns.values"
   ]
  },
  {
   "cell_type": "code",
   "execution_count": 22,
   "metadata": {},
   "outputs": [
    {
     "data": {
      "text/html": [
       "<div>\n",
       "<style scoped>\n",
       "    .dataframe tbody tr th:only-of-type {\n",
       "        vertical-align: middle;\n",
       "    }\n",
       "\n",
       "    .dataframe tbody tr th {\n",
       "        vertical-align: top;\n",
       "    }\n",
       "\n",
       "    .dataframe thead th {\n",
       "        text-align: right;\n",
       "    }\n",
       "</style>\n",
       "<table border=\"1\" class=\"dataframe\">\n",
       "  <thead>\n",
       "    <tr style=\"text-align: right;\">\n",
       "      <th></th>\n",
       "      <th>YEAR</th>\n",
       "      <th>STATE</th>\n",
       "      <th>UNIT_ID</th>\n",
       "      <th>FIRE_NAME</th>\n",
       "      <th>ALARM_DATE</th>\n",
       "      <th>CAUSE</th>\n",
       "      <th>GIS_ACRES</th>\n",
       "    </tr>\n",
       "  </thead>\n",
       "  <tbody>\n",
       "    <tr>\n",
       "      <th>0</th>\n",
       "      <td>2017</td>\n",
       "      <td>California</td>\n",
       "      <td>Tulare County</td>\n",
       "      <td>DINELY</td>\n",
       "      <td>6/7/2017</td>\n",
       "      <td>2 - Equipment Use</td>\n",
       "      <td>340.5638</td>\n",
       "    </tr>\n",
       "    <tr>\n",
       "      <th>1</th>\n",
       "      <td>2017</td>\n",
       "      <td>California</td>\n",
       "      <td>Tulare County</td>\n",
       "      <td>ROADRUNNER</td>\n",
       "      <td>7/30/2017</td>\n",
       "      <td>7 - Arson</td>\n",
       "      <td>2284.5960</td>\n",
       "    </tr>\n",
       "    <tr>\n",
       "      <th>2</th>\n",
       "      <td>2017</td>\n",
       "      <td>California</td>\n",
       "      <td>Tulare County</td>\n",
       "      <td>ELEPHANT 2</td>\n",
       "      <td>7/20/2017</td>\n",
       "      <td>7 - Arson</td>\n",
       "      <td>415.2116</td>\n",
       "    </tr>\n",
       "    <tr>\n",
       "      <th>3</th>\n",
       "      <td>2017</td>\n",
       "      <td>California</td>\n",
       "      <td>Tehama - Glenn CAL FIRE</td>\n",
       "      <td>TEHAMA</td>\n",
       "      <td>10/30/2017</td>\n",
       "      <td>10 - Vehicle</td>\n",
       "      <td>194.0017</td>\n",
       "    </tr>\n",
       "    <tr>\n",
       "      <th>4</th>\n",
       "      <td>2017</td>\n",
       "      <td>California</td>\n",
       "      <td>Tuolumne - Calaveras CAL FIRE</td>\n",
       "      <td>JACKSONVILLE</td>\n",
       "      <td>7/29/2017</td>\n",
       "      <td>14 - Unknown / Unidentified</td>\n",
       "      <td>684.3565</td>\n",
       "    </tr>\n",
       "  </tbody>\n",
       "</table>\n",
       "</div>"
      ],
      "text/plain": [
       "   YEAR       STATE                        UNIT_ID     FIRE_NAME  ALARM_DATE  \\\n",
       "0  2017  California                  Tulare County        DINELY    6/7/2017   \n",
       "1  2017  California                  Tulare County    ROADRUNNER   7/30/2017   \n",
       "2  2017  California                  Tulare County    ELEPHANT 2   7/20/2017   \n",
       "3  2017  California        Tehama - Glenn CAL FIRE        TEHAMA  10/30/2017   \n",
       "4  2017  California  Tuolumne - Calaveras CAL FIRE  JACKSONVILLE   7/29/2017   \n",
       "\n",
       "                         CAUSE  GIS_ACRES  \n",
       "0            2 - Equipment Use   340.5638  \n",
       "1                    7 - Arson  2284.5960  \n",
       "2                    7 - Arson   415.2116  \n",
       "3                 10 - Vehicle   194.0017  \n",
       "4  14 - Unknown / Unidentified   684.3565  "
      ]
     },
     "execution_count": 22,
     "metadata": {},
     "output_type": "execute_result"
    }
   ],
   "source": [
    "dfFilteredColumns = no_nulls[['YEAR', 'STATE','UNIT_ID', 'FIRE_NAME', \n",
    "       'ALARM_DATE', 'CAUSE','GIS_ACRES']]\n",
    "dfFilteredColumns.head()"
   ]
  },
  {
   "cell_type": "code",
   "execution_count": 40,
   "metadata": {},
   "outputs": [
    {
     "data": {
      "text/html": [
       "<div>\n",
       "<style scoped>\n",
       "    .dataframe tbody tr th:only-of-type {\n",
       "        vertical-align: middle;\n",
       "    }\n",
       "\n",
       "    .dataframe tbody tr th {\n",
       "        vertical-align: top;\n",
       "    }\n",
       "\n",
       "    .dataframe thead th {\n",
       "        text-align: right;\n",
       "    }\n",
       "</style>\n",
       "<table border=\"1\" class=\"dataframe\">\n",
       "  <thead>\n",
       "    <tr style=\"text-align: right;\">\n",
       "      <th></th>\n",
       "      <th>YEAR</th>\n",
       "      <th>STATE</th>\n",
       "      <th>UNIT_ID</th>\n",
       "      <th>FIRE_NAME</th>\n",
       "      <th>ALARM_DATE</th>\n",
       "      <th>CAUSE</th>\n",
       "      <th>GIS_ACRES</th>\n",
       "    </tr>\n",
       "  </thead>\n",
       "  <tbody>\n",
       "    <tr>\n",
       "      <th>0</th>\n",
       "      <td>2017</td>\n",
       "      <td>California</td>\n",
       "      <td>Tulare County</td>\n",
       "      <td>DINELY</td>\n",
       "      <td>6/7/2017</td>\n",
       "      <td>2 - Equipment Use</td>\n",
       "      <td>340.5638</td>\n",
       "    </tr>\n",
       "    <tr>\n",
       "      <th>1</th>\n",
       "      <td>2017</td>\n",
       "      <td>California</td>\n",
       "      <td>Tulare County</td>\n",
       "      <td>ROADRUNNER</td>\n",
       "      <td>7/30/2017</td>\n",
       "      <td>7 - Arson</td>\n",
       "      <td>2284.5960</td>\n",
       "    </tr>\n",
       "    <tr>\n",
       "      <th>2</th>\n",
       "      <td>2017</td>\n",
       "      <td>California</td>\n",
       "      <td>Tulare County</td>\n",
       "      <td>ELEPHANT 2</td>\n",
       "      <td>7/20/2017</td>\n",
       "      <td>7 - Arson</td>\n",
       "      <td>415.2116</td>\n",
       "    </tr>\n",
       "    <tr>\n",
       "      <th>3</th>\n",
       "      <td>2017</td>\n",
       "      <td>California</td>\n",
       "      <td>Tehama - Glenn CAL FIRE</td>\n",
       "      <td>TEHAMA</td>\n",
       "      <td>10/30/2017</td>\n",
       "      <td>10 - Vehicle</td>\n",
       "      <td>194.0017</td>\n",
       "    </tr>\n",
       "    <tr>\n",
       "      <th>7</th>\n",
       "      <td>2017</td>\n",
       "      <td>California</td>\n",
       "      <td>Tuolumne - Calaveras CAL FIRE</td>\n",
       "      <td>POINT</td>\n",
       "      <td>10/9/2017</td>\n",
       "      <td>11 - Powerline</td>\n",
       "      <td>130.2357</td>\n",
       "    </tr>\n",
       "  </tbody>\n",
       "</table>\n",
       "</div>"
      ],
      "text/plain": [
       "   YEAR       STATE                        UNIT_ID   FIRE_NAME  ALARM_DATE  \\\n",
       "0  2017  California                  Tulare County      DINELY    6/7/2017   \n",
       "1  2017  California                  Tulare County  ROADRUNNER   7/30/2017   \n",
       "2  2017  California                  Tulare County  ELEPHANT 2   7/20/2017   \n",
       "3  2017  California        Tehama - Glenn CAL FIRE      TEHAMA  10/30/2017   \n",
       "7  2017  California  Tuolumne - Calaveras CAL FIRE       POINT   10/9/2017   \n",
       "\n",
       "               CAUSE  GIS_ACRES  \n",
       "0  2 - Equipment Use   340.5638  \n",
       "1          7 - Arson  2284.5960  \n",
       "2          7 - Arson   415.2116  \n",
       "3       10 - Vehicle   194.0017  \n",
       "7     11 - Powerline   130.2357  "
      ]
     },
     "execution_count": 40,
     "metadata": {},
     "output_type": "execute_result"
    }
   ],
   "source": [
    "#get rid of unidentified causes \n",
    "dfFiltered = dfFilteredColumns[dfFilteredColumns[\"CAUSE\"] != \"14 - Unknown / Unidentified\"]\n",
    "dfFiltered.head()"
   ]
  },
  {
   "cell_type": "code",
   "execution_count": 41,
   "metadata": {},
   "outputs": [
    {
     "data": {
      "text/plain": [
       "dtype('O')"
      ]
     },
     "execution_count": 41,
     "metadata": {},
     "output_type": "execute_result"
    }
   ],
   "source": [
    "#double check type of YEAR\n",
    "dfFiltered['YEAR'].dtype"
   ]
  },
  {
   "cell_type": "code",
   "execution_count": 101,
   "metadata": {},
   "outputs": [],
   "source": [
    "#trend of human-caused fires throughout the years \n",
    "#get rid of unknown/unidentified \n",
    "#get rid of comments \n",
    "#map of where they're most prevalent/ get counts \n",
    "#cut table from 1950 - now??? \n",
    "\n"
   ]
  },
  {
   "cell_type": "code",
   "execution_count": 51,
   "metadata": {},
   "outputs": [
    {
     "data": {
      "text/plain": [
       "array([2017, 2018, 1910, 1911, 1912, 1913, 1914, 1915, 1916, 1917, 1918,\n",
       "       1919, 1920, 1921, 1922, 1923, 1924, 1925, 1926, 1927, 1928, 1929,\n",
       "       1930, 1931, 1932, 1933, 1934, 1935, 1936, 1937, 1938, 1939, 1940,\n",
       "       1941, 1942, 1943, 1944, 1945, 1946, 1947, 1948, 1949, 1950, 1951,\n",
       "       1952, 1953, 1954, 1955, 1956, 1957, 1958, 1959, 1960, 1961, 1962,\n",
       "       1963, 1964, 1965, 1966, 1967, 1968, 1969, 1970, 1971, 1972, 1973,\n",
       "       1974, 1975, 1976, 1977, 1978, 1979, 1980, 1981, 1982, 1983, 1984,\n",
       "       1985, 1986, 1987, 1988, 1989, 1990, 1991, 1992, 1993, 1994, 1995,\n",
       "       1996, 1997, 1998, 1999, 2000, 2001, 2002, 2003, 2004, 2005, 2006,\n",
       "       2007, 2008, 2009, 2010, 2011, 2012, 2013, 2014, 2015, 2016],\n",
       "      dtype=int64)"
      ]
     },
     "execution_count": 51,
     "metadata": {},
     "output_type": "execute_result"
    }
   ],
   "source": [
    "#convert YEAR strings to integers to make this column easier to work with\n",
    "#UM WHY DID THIS WORK FOR LIKE 2 SECONDS\n",
    "\n",
    "#pd.to_numeric(dfFiltered['YEAR'], errors='coerce', downcast = 'integer').head()\n",
    "#pd.to_numeric(dfFiltered['YEAR'], errors='coerce').head()\n",
    "#dfFiltered['YEAR'].astype(str).astype(int).head()\n",
    "#dfFiltered['YEAR'].astype(np.int64).head() \n",
    "\n",
    "#OK I GUESS THIS WORKS???\n",
    "dfFiltered['YEAR'].apply(lambda x: int(x))\n",
    "dfFiltered['YEAR'].unique()"
   ]
  },
  {
   "cell_type": "code",
   "execution_count": 53,
   "metadata": {},
   "outputs": [
    {
     "data": {
      "text/plain": [
       "array([2017, 2018, 1951, 1952, 1953, 1954, 1955, 1956, 1957, 1958, 1959,\n",
       "       1960, 1961, 1962, 1963, 1964, 1965, 1966, 1967, 1968, 1969, 1970,\n",
       "       1971, 1972, 1973, 1974, 1975, 1976, 1977, 1978, 1979, 1980, 1981,\n",
       "       1982, 1983, 1984, 1985, 1986, 1987, 1988, 1989, 1990, 1991, 1992,\n",
       "       1993, 1994, 1995, 1996, 1997, 1998, 1999, 2000, 2001, 2002, 2003,\n",
       "       2004, 2005, 2006, 2007, 2008, 2009, 2010, 2011, 2012, 2013, 2014,\n",
       "       2015, 2016], dtype=int64)"
      ]
     },
     "execution_count": 53,
     "metadata": {},
     "output_type": "execute_result"
    }
   ],
   "source": [
    "#cut our data so we can look at 1950-2017\n",
    "dfFiltered = dfFiltered[dfFiltered['YEAR'] > 1950]\n",
    "dfFiltered['YEAR'].unique()"
   ]
  },
  {
   "cell_type": "code",
   "execution_count": 54,
   "metadata": {},
   "outputs": [
    {
     "data": {
      "text/html": [
       "<div>\n",
       "<style scoped>\n",
       "    .dataframe tbody tr th:only-of-type {\n",
       "        vertical-align: middle;\n",
       "    }\n",
       "\n",
       "    .dataframe tbody tr th {\n",
       "        vertical-align: top;\n",
       "    }\n",
       "\n",
       "    .dataframe thead th {\n",
       "        text-align: right;\n",
       "    }\n",
       "</style>\n",
       "<table border=\"1\" class=\"dataframe\">\n",
       "  <thead>\n",
       "    <tr style=\"text-align: right;\">\n",
       "      <th></th>\n",
       "      <th>YEAR</th>\n",
       "      <th>STATE</th>\n",
       "      <th>UNIT_ID</th>\n",
       "      <th>FIRE_NAME</th>\n",
       "      <th>ALARM_DATE</th>\n",
       "      <th>CAUSE</th>\n",
       "      <th>GIS_ACRES</th>\n",
       "    </tr>\n",
       "  </thead>\n",
       "  <tbody>\n",
       "    <tr>\n",
       "      <th>0</th>\n",
       "      <td>2017</td>\n",
       "      <td>California</td>\n",
       "      <td>Tulare County</td>\n",
       "      <td>DINELY</td>\n",
       "      <td>6/7/2017</td>\n",
       "      <td>2 - Equipment Use</td>\n",
       "      <td>340.5638</td>\n",
       "    </tr>\n",
       "    <tr>\n",
       "      <th>1</th>\n",
       "      <td>2017</td>\n",
       "      <td>California</td>\n",
       "      <td>Tulare County</td>\n",
       "      <td>ROADRUNNER</td>\n",
       "      <td>7/30/2017</td>\n",
       "      <td>7 - Arson</td>\n",
       "      <td>2284.5960</td>\n",
       "    </tr>\n",
       "    <tr>\n",
       "      <th>2</th>\n",
       "      <td>2017</td>\n",
       "      <td>California</td>\n",
       "      <td>Tulare County</td>\n",
       "      <td>ELEPHANT 2</td>\n",
       "      <td>7/20/2017</td>\n",
       "      <td>7 - Arson</td>\n",
       "      <td>415.2116</td>\n",
       "    </tr>\n",
       "    <tr>\n",
       "      <th>3</th>\n",
       "      <td>2017</td>\n",
       "      <td>California</td>\n",
       "      <td>Tehama - Glenn CAL FIRE</td>\n",
       "      <td>TEHAMA</td>\n",
       "      <td>10/30/2017</td>\n",
       "      <td>10 - Vehicle</td>\n",
       "      <td>194.0017</td>\n",
       "    </tr>\n",
       "    <tr>\n",
       "      <th>7</th>\n",
       "      <td>2017</td>\n",
       "      <td>California</td>\n",
       "      <td>Tuolumne - Calaveras CAL FIRE</td>\n",
       "      <td>POINT</td>\n",
       "      <td>10/9/2017</td>\n",
       "      <td>11 - Powerline</td>\n",
       "      <td>130.2357</td>\n",
       "    </tr>\n",
       "  </tbody>\n",
       "</table>\n",
       "</div>"
      ],
      "text/plain": [
       "   YEAR       STATE                        UNIT_ID   FIRE_NAME  ALARM_DATE  \\\n",
       "0  2017  California                  Tulare County      DINELY    6/7/2017   \n",
       "1  2017  California                  Tulare County  ROADRUNNER   7/30/2017   \n",
       "2  2017  California                  Tulare County  ELEPHANT 2   7/20/2017   \n",
       "3  2017  California        Tehama - Glenn CAL FIRE      TEHAMA  10/30/2017   \n",
       "7  2017  California  Tuolumne - Calaveras CAL FIRE       POINT   10/9/2017   \n",
       "\n",
       "               CAUSE  GIS_ACRES  \n",
       "0  2 - Equipment Use   340.5638  \n",
       "1          7 - Arson  2284.5960  \n",
       "2          7 - Arson   415.2116  \n",
       "3       10 - Vehicle   194.0017  \n",
       "7     11 - Powerline   130.2357  "
      ]
     },
     "execution_count": 54,
     "metadata": {},
     "output_type": "execute_result"
    }
   ],
   "source": [
    "#rename this dataframe \n",
    "fires = dfFiltered\n",
    "fires.head()"
   ]
  },
  {
   "cell_type": "code",
   "execution_count": 55,
   "metadata": {},
   "outputs": [
    {
     "data": {
      "text/plain": [
       "Sequoia National Forest           241\n",
       "Cleveland National Forest         237\n",
       "Riverside CAL FIRE                203\n",
       "San Diego CAL FIRE                169\n",
       "Shasta-Trinity National Forest    166\n",
       "Name: UNIT_ID, dtype: int64"
      ]
     },
     "execution_count": 55,
     "metadata": {},
     "output_type": "execute_result"
    }
   ],
   "source": [
    "#list of fire frequency per location \n",
    "#make bubble map w/ this?? \n",
    "fires['UNIT_ID'].value_counts().head()"
   ]
  },
  {
   "cell_type": "code",
   "execution_count": 57,
   "metadata": {},
   "outputs": [
    {
     "data": {
      "text/plain": [
       "1 - Lightning                    1302\n",
       "9 - Miscellaneous                 961\n",
       "2 - Equipment Use                 523\n",
       "7 - Arson                         458\n",
       "4 - Campfire                      172\n",
       "5 - Debris                        168\n",
       "10 - Vehicle                      164\n",
       "11 - Powerline                    140\n",
       "3 - Smoking                       114\n",
       "8 - Playing with fire              76\n",
       "18 - Escaped Prescribed Burn       40\n",
       "6 - Railroad                       31\n",
       "<Null>                             11\n",
       "15 - Structure                      8\n",
       "13 - Non-Firefighter Training       7\n",
       "16 - Aircraft                       7\n",
       "19 - Illegal Alien Campfire         4\n",
       "12 - Firefighter Training           4\n",
       "Name: CAUSE, dtype: int64"
      ]
     },
     "execution_count": 57,
     "metadata": {},
     "output_type": "execute_result"
    }
   ],
   "source": [
    "fires['CAUSE'].value_counts()"
   ]
  },
  {
   "cell_type": "code",
   "execution_count": 64,
   "metadata": {},
   "outputs": [
    {
     "data": {
      "text/plain": [
       "1 - Lightning                  1302\n",
       "2 - Equipment Use               523\n",
       "7 - Arson                       458\n",
       "4 - Campfire                    172\n",
       "5 - Debris                      168\n",
       "10 - Vehicle                    164\n",
       "11 - Powerline                  140\n",
       "3 - Smoking                     114\n",
       "8 - Playing with fire            76\n",
       "6 - Railroad                     31\n",
       "15 - Structure                    8\n",
       "16 - Aircraft                     7\n",
       "19 - Illegal Alien Campfire       4\n",
       "Name: CAUSE, dtype: int64"
      ]
     },
     "execution_count": 64,
     "metadata": {},
     "output_type": "execute_result"
    }
   ],
   "source": [
    "fires = fires[(fires[\"CAUSE\"] != \"<Null>\") & (fires[\"CAUSE\"] != \"9 - Miscellaneous\") \n",
    "             & (fires[\"CAUSE\"] != \"18 - Escaped Prescribed Burn\")\n",
    "             & (fires[\"CAUSE\"] != \"12 - Firefighter Training\")\n",
    "             & (fires[\"CAUSE\"] != \"13 - Non-Firefighter Training\")]\n",
    "\n",
    "fires['CAUSE'].value_counts()"
   ]
  },
  {
   "cell_type": "code",
   "execution_count": 65,
   "metadata": {},
   "outputs": [],
   "source": [
    "#somehow pivot city and causes to see if there are any patterns in causes and location? "
   ]
  },
  {
   "cell_type": "markdown",
   "metadata": {},
   "source": [
    "### Look at trend of arson to create simple line graph "
   ]
  },
  {
   "cell_type": "code",
   "execution_count": 94,
   "metadata": {},
   "outputs": [
    {
     "data": {
      "text/html": [
       "<div>\n",
       "<style scoped>\n",
       "    .dataframe tbody tr th:only-of-type {\n",
       "        vertical-align: middle;\n",
       "    }\n",
       "\n",
       "    .dataframe tbody tr th {\n",
       "        vertical-align: top;\n",
       "    }\n",
       "\n",
       "    .dataframe thead tr th {\n",
       "        text-align: left;\n",
       "    }\n",
       "\n",
       "    .dataframe thead tr:last-of-type th {\n",
       "        text-align: right;\n",
       "    }\n",
       "</style>\n",
       "<table border=\"1\" class=\"dataframe\">\n",
       "  <thead>\n",
       "    <tr>\n",
       "      <th></th>\n",
       "      <th>CAUSE</th>\n",
       "    </tr>\n",
       "    <tr>\n",
       "      <th></th>\n",
       "      <th>count</th>\n",
       "    </tr>\n",
       "    <tr>\n",
       "      <th>YEAR</th>\n",
       "      <th></th>\n",
       "    </tr>\n",
       "  </thead>\n",
       "  <tbody>\n",
       "    <tr>\n",
       "      <th>1957</th>\n",
       "      <td>1</td>\n",
       "    </tr>\n",
       "    <tr>\n",
       "      <th>1961</th>\n",
       "      <td>1</td>\n",
       "    </tr>\n",
       "    <tr>\n",
       "      <th>1966</th>\n",
       "      <td>1</td>\n",
       "    </tr>\n",
       "    <tr>\n",
       "      <th>1967</th>\n",
       "      <td>1</td>\n",
       "    </tr>\n",
       "    <tr>\n",
       "      <th>1968</th>\n",
       "      <td>2</td>\n",
       "    </tr>\n",
       "  </tbody>\n",
       "</table>\n",
       "</div>"
      ],
      "text/plain": [
       "     CAUSE\n",
       "     count\n",
       "YEAR      \n",
       "1957     1\n",
       "1961     1\n",
       "1966     1\n",
       "1967     1\n",
       "1968     2"
      ]
     },
     "execution_count": 94,
     "metadata": {},
     "output_type": "execute_result"
    }
   ],
   "source": [
    "fires_arson = fires[['YEAR', 'CAUSE']]\n",
    "fires_arson = fires_arson[fires_arson[\"CAUSE\"] == \"7 - Arson\"]\n",
    "#fires_arson['YEAR'].value_counts() #.sort_values('YEAR')\n",
    "#group by year, see counts for number of arson incidents per year\n",
    "fires_arson.groupby(['YEAR']).agg(['count']).head()"
   ]
  },
  {
   "cell_type": "code",
   "execution_count": 95,
   "metadata": {},
   "outputs": [
    {
     "data": {
      "text/html": [
       "<iframe id=\"igraph\" scrolling=\"no\" style=\"border:none;\" seamless=\"seamless\" src=\"https://plot.ly/~winifredc123/18.embed\" height=\"525px\" width=\"100%\"></iframe>"
      ],
      "text/plain": [
       "<plotly.tools.PlotlyDisplay object>"
      ]
     },
     "execution_count": 95,
     "metadata": {},
     "output_type": "execute_result"
    }
   ],
   "source": [
    "\n",
    "arson_x = fires_arson['YEAR']\n",
    "arson_y = fires_arson['CAUSE']\n",
    "\n",
    "trace = go.Scatter(\n",
    "    x = arson_x,\n",
    "    y = arson_y\n",
    ")\n",
    "\n",
    "data = [trace]\n",
    "\n",
    "py.iplot(data, filename='arson line graph')\n"
   ]
  },
  {
   "cell_type": "code",
   "execution_count": null,
   "metadata": {},
   "outputs": [],
   "source": []
  }
 ],
 "metadata": {
  "kernelspec": {
   "display_name": "Python 3",
   "language": "python",
   "name": "python3"
  },
  "language_info": {
   "codemirror_mode": {
    "name": "ipython",
    "version": 3
   },
   "file_extension": ".py",
   "mimetype": "text/x-python",
   "name": "python",
   "nbconvert_exporter": "python",
   "pygments_lexer": "ipython3",
   "version": "3.6.4"
  }
 },
 "nbformat": 4,
 "nbformat_minor": 2
}
