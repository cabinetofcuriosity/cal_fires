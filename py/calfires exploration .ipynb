{
 "cells": [
  {
   "cell_type": "markdown",
   "metadata": {},
   "source": [
    "This dataset comes from the [Cal Fires website](http://frap.fire.ca.gov/data/frapgisdata-sw-fireperimeters_download). Data from 1878-2017 is available. Information on table attributes can be found [here](http://frap.fire.ca.gov/projects/fire_data/fire_perimeters_data_description), while information about data collection can be found [here](http://frap.fire.ca.gov/projects/fire_data/fire_perimeters_index). "
   ]
  },
  {
   "cell_type": "markdown",
   "metadata": {},
   "source": [
    "# Plan \n",
    "\n",
    "-- trend of causes... have human-caused ones increased? \n",
    "\n",
    "-- wildfire season longer? See how many big ones happen per month\n",
    "\n",
    "-- wildfires occur more in general? See how many occur per year\n",
    "\n",
    "-- look at counties... does one area have more than others? \n",
    "\n",
    "-- potentially see how biodiversity is affected"
   ]
  },
  {
   "cell_type": "code",
   "execution_count": 2,
   "metadata": {},
   "outputs": [],
   "source": [
    "from datascience import *\n",
    "import numpy as np\n",
    "import pandas as pd"
   ]
  },
  {
   "cell_type": "code",
   "execution_count": 3,
   "metadata": {},
   "outputs": [],
   "source": [
    "dfFires = pd.read_csv('~/URAP/cal_fires/data/calfires17.csv')\n",
    "dfPast = pd.read_csv('~/URAP/cal_fires/data/calfires1878_2016.csv')\n",
    "#rename the \"YEAR_\" column in dfFires so that we can append the past fires to it and have the \"YEAR\" \n",
    "#columns match up \n",
    "dfFires.rename(columns={'YEAR_': 'YEAR'}, inplace=True)"
   ]
  },
  {
   "cell_type": "code",
   "execution_count": 4,
   "metadata": {},
   "outputs": [],
   "source": [
    "fires17 = Table().read_table('~/URAP/cal_fires/data/calfires17.csv')\n",
    "past_fires = Table().read_table('~/URAP/cal_fires/data/calfires1878_2016.csv')\n",
    "#only include values from past_fires that have year ints )"
   ]
  },
  {
   "cell_type": "code",
   "execution_count": 5,
   "metadata": {},
   "outputs": [
    {
     "data": {
      "text/html": [
       "<table border=\"1\" class=\"dataframe\">\n",
       "    <thead>\n",
       "        <tr>\n",
       "            <th>YEAR</th> <th>STATE</th> <th>AGENCY</th> <th>UNIT_ID</th> <th>FIRE_NAME</th> <th>INC_NUM</th> <th>ALARM_DATE</th> <th>CONT_DATE</th> <th>CAUSE</th> <th>COMMENTS</th> <th>REPORT_AC</th> <th>GIS_ACRES</th> <th>C_METHOD</th> <th>OBJECTIVE</th>\n",
       "        </tr>\n",
       "    </thead>\n",
       "    <tbody>\n",
       "        <tr>\n",
       "            <td>nan   </td> <td>California</td> <td>USDA Forest Service</td> <td>Mendocino National Forest     </td> <td>            </td> <td>0      </td> <td><Null>    </td> <td><Null>   </td> <td>14 - Unknown / Unidentified</td> <td>nan                                               </td> <td><Null>   </td> <td>678.79   </td> <td><Null>        </td> <td>Suppression (Wildfire)</td>\n",
       "        </tr>\n",
       "        <tr>\n",
       "            <td>nan   </td> <td>California</td> <td>USDA Forest Service</td> <td>Mendocino National Forest     </td> <td>            </td> <td>0      </td> <td><Null>    </td> <td><Null>   </td> <td>14 - Unknown / Unidentified</td> <td>nan                                               </td> <td><Null>   </td> <td>769.405  </td> <td><Null>        </td> <td>Suppression (Wildfire)</td>\n",
       "        </tr>\n",
       "        <tr>\n",
       "            <td>nan   </td> <td>California</td> <td>USDA Forest Service</td> <td>Shasta-Trinity National Forest</td> <td>            </td> <td>0      </td> <td><Null>    </td> <td><Null>   </td> <td>14 - Unknown / Unidentified</td> <td>nan                                               </td> <td><Null>   </td> <td>948.305  </td> <td><Null>        </td> <td>Suppression (Wildfire)</td>\n",
       "        </tr>\n",
       "        <tr>\n",
       "            <td>nan   </td> <td>California</td> <td>Contract County    </td> <td>Ventura County                </td> <td>            </td> <td>0      </td> <td><Null>    </td> <td><Null>   </td> <td>14 - Unknown / Unidentified</td> <td>nan                                               </td> <td><Null>   </td> <td>124.312  </td> <td><Null>        </td> <td>Suppression (Wildfire)</td>\n",
       "        </tr>\n",
       "        <tr>\n",
       "            <td>nan   </td> <td>California</td> <td>Contract County    </td> <td>Ventura County                </td> <td>            </td> <td>0      </td> <td><Null>    </td> <td><Null>   </td> <td>14 - Unknown / Unidentified</td> <td>nan                                               </td> <td><Null>   </td> <td>359.359  </td> <td><Null>        </td> <td>Suppression (Wildfire)</td>\n",
       "        </tr>\n",
       "        <tr>\n",
       "            <td>nan   </td> <td>California</td> <td>Contract County    </td> <td>Ventura County                </td> <td>TAYLOR RANCH</td> <td>0      </td> <td><Null>    </td> <td><Null>   </td> <td>14 - Unknown / Unidentified</td> <td>nan                                               </td> <td><Null>   </td> <td>144.675  </td> <td><Null>        </td> <td>Suppression (Wildfire)</td>\n",
       "        </tr>\n",
       "        <tr>\n",
       "            <td><Null></td> <td>California</td> <td>Contract County    </td> <td>Marin County                  </td> <td>UKNOWN      </td> <td><Null> </td> <td><Null>    </td> <td><Null>   </td> <td>14 - Unknown / Unidentified</td> <td>1917-34(Yr Not Report)MarinCo FireChief Garber Map</td> <td>2000     </td> <td>2927.24  </td> <td>6 - Hand Drawn</td> <td>Suppression (Wildfire)</td>\n",
       "        </tr>\n",
       "        <tr>\n",
       "            <td><Null></td> <td>California</td> <td>Contract County    </td> <td>Marin County                  </td> <td>UKNOWN      </td> <td><Null> </td> <td><Null>    </td> <td><Null>   </td> <td>14 - Unknown / Unidentified</td> <td>1917-34(Yr Not Report)MarinCo FireChief Garber Map</td> <td>50       </td> <td>465.535  </td> <td>6 - Hand Drawn</td> <td>Suppression (Wildfire)</td>\n",
       "        </tr>\n",
       "        <tr>\n",
       "            <td><Null></td> <td>California</td> <td>Contract County    </td> <td>Marin County                  </td> <td>UKNOWN      </td> <td><Null> </td> <td><Null>    </td> <td><Null>   </td> <td>14 - Unknown / Unidentified</td> <td>1917-34(Yr Not Report)MarinCo FireChief Garber Map</td> <td>1500     </td> <td>1494.28  </td> <td>6 - Hand Drawn</td> <td>Suppression (Wildfire)</td>\n",
       "        </tr>\n",
       "        <tr>\n",
       "            <td><Null></td> <td>California</td> <td>Contract County    </td> <td>Marin County                  </td> <td>UKNOWN      </td> <td><Null> </td> <td><Null>    </td> <td><Null>   </td> <td>14 - Unknown / Unidentified</td> <td>1917-34(Yr Not Report)MarinCo FireChief Garber Map</td> <td>50       </td> <td>186.417  </td> <td>6 - Hand Drawn</td> <td>Suppression (Wildfire)</td>\n",
       "        </tr>\n",
       "    </tbody>\n",
       "</table>\n",
       "<p>... (11785 rows omitted)</p>"
      ],
      "text/plain": [
       "YEAR   | STATE      | AGENCY              | UNIT_ID                        | FIRE_NAME    | INC_NUM | ALARM_DATE | CONT_DATE | CAUSE                       | COMMENTS                                           | REPORT_AC | GIS_ACRES | C_METHOD       | OBJECTIVE\n",
       "nan    | California | USDA Forest Service | Mendocino National Forest      |              | 0       | <Null>     | <Null>    | 14 - Unknown / Unidentified | nan                                                | <Null>    | 678.79    | <Null>         | Suppression (Wildfire)\n",
       "nan    | California | USDA Forest Service | Mendocino National Forest      |              | 0       | <Null>     | <Null>    | 14 - Unknown / Unidentified | nan                                                | <Null>    | 769.405   | <Null>         | Suppression (Wildfire)\n",
       "nan    | California | USDA Forest Service | Shasta-Trinity National Forest |              | 0       | <Null>     | <Null>    | 14 - Unknown / Unidentified | nan                                                | <Null>    | 948.305   | <Null>         | Suppression (Wildfire)\n",
       "nan    | California | Contract County     | Ventura County                 |              | 0       | <Null>     | <Null>    | 14 - Unknown / Unidentified | nan                                                | <Null>    | 124.312   | <Null>         | Suppression (Wildfire)\n",
       "nan    | California | Contract County     | Ventura County                 |              | 0       | <Null>     | <Null>    | 14 - Unknown / Unidentified | nan                                                | <Null>    | 359.359   | <Null>         | Suppression (Wildfire)\n",
       "nan    | California | Contract County     | Ventura County                 | TAYLOR RANCH | 0       | <Null>     | <Null>    | 14 - Unknown / Unidentified | nan                                                | <Null>    | 144.675   | <Null>         | Suppression (Wildfire)\n",
       "<Null> | California | Contract County     | Marin County                   | UKNOWN       | <Null>  | <Null>     | <Null>    | 14 - Unknown / Unidentified | 1917-34(Yr Not Report)MarinCo FireChief Garber Map | 2000      | 2927.24   | 6 - Hand Drawn | Suppression (Wildfire)\n",
       "<Null> | California | Contract County     | Marin County                   | UKNOWN       | <Null>  | <Null>     | <Null>    | 14 - Unknown / Unidentified | 1917-34(Yr Not Report)MarinCo FireChief Garber Map | 50        | 465.535   | 6 - Hand Drawn | Suppression (Wildfire)\n",
       "<Null> | California | Contract County     | Marin County                   | UKNOWN       | <Null>  | <Null>     | <Null>    | 14 - Unknown / Unidentified | 1917-34(Yr Not Report)MarinCo FireChief Garber Map | 1500      | 1494.28   | 6 - Hand Drawn | Suppression (Wildfire)\n",
       "<Null> | California | Contract County     | Marin County                   | UKNOWN       | <Null>  | <Null>     | <Null>    | 14 - Unknown / Unidentified | 1917-34(Yr Not Report)MarinCo FireChief Garber Map | 50        | 186.417   | 6 - Hand Drawn | Suppression (Wildfire)\n",
       "... (11785 rows omitted)"
      ]
     },
     "execution_count": 5,
     "metadata": {},
     "output_type": "execute_result"
    }
   ],
   "source": [
    "past_fires.where(isinstance(\"YEAR\", int)).sort(\"YEAR\", descending = True)\n",
    "#we see null and nan values in this table! \n"
   ]
  },
  {
   "cell_type": "code",
   "execution_count": 13,
   "metadata": {},
   "outputs": [],
   "source": [
    "#merge these tables together \n",
    "total_fires = dfFires.append(dfPast)\n",
    "##fires = Table.from_df(total_fires)\n",
    "##fires.sort('YEAR', descending=True)\n",
    "#sort to see that we still need to clean data\n",
    "\n",
    "#tbl_total_fires=Table.from_df(total_fires)\n",
    "#tbl_total_fires.sort('YEAR', descending=True)"
   ]
  },
  {
   "cell_type": "code",
   "execution_count": 7,
   "metadata": {},
   "outputs": [
    {
     "data": {
      "text/html": [
       "<div>\n",
       "<style scoped>\n",
       "    .dataframe tbody tr th:only-of-type {\n",
       "        vertical-align: middle;\n",
       "    }\n",
       "\n",
       "    .dataframe tbody tr th {\n",
       "        vertical-align: top;\n",
       "    }\n",
       "\n",
       "    .dataframe thead th {\n",
       "        text-align: right;\n",
       "    }\n",
       "</style>\n",
       "<table border=\"1\" class=\"dataframe\">\n",
       "  <thead>\n",
       "    <tr style=\"text-align: right;\">\n",
       "      <th></th>\n",
       "      <th>YEAR</th>\n",
       "      <th>STATE</th>\n",
       "      <th>AGENCY</th>\n",
       "      <th>UNIT_ID</th>\n",
       "      <th>FIRE_NAME</th>\n",
       "      <th>INC_NUM</th>\n",
       "      <th>ALARM_DATE</th>\n",
       "      <th>CONT_DATE</th>\n",
       "      <th>CAUSE</th>\n",
       "      <th>COMMENTS</th>\n",
       "      <th>REPORT_AC</th>\n",
       "      <th>GIS_ACRES</th>\n",
       "      <th>C_METHOD</th>\n",
       "      <th>OBJECTIVE</th>\n",
       "    </tr>\n",
       "  </thead>\n",
       "  <tbody>\n",
       "    <tr>\n",
       "      <th>0</th>\n",
       "      <td>2017</td>\n",
       "      <td>California</td>\n",
       "      <td>California Department of Forestry and Fire Pro...</td>\n",
       "      <td>Tulare County</td>\n",
       "      <td>DINELY</td>\n",
       "      <td>286</td>\n",
       "      <td>6/7/2017</td>\n",
       "      <td>6/11/2017</td>\n",
       "      <td>2 - Equipment Use</td>\n",
       "      <td>&lt;Null&gt;</td>\n",
       "      <td>339</td>\n",
       "      <td>340.5638</td>\n",
       "      <td>1 - GPS Ground</td>\n",
       "      <td>Suppression (Wildfire)</td>\n",
       "    </tr>\n",
       "    <tr>\n",
       "      <th>1</th>\n",
       "      <td>2017</td>\n",
       "      <td>California</td>\n",
       "      <td>California Department of Forestry and Fire Pro...</td>\n",
       "      <td>Tulare County</td>\n",
       "      <td>ROADRUNNER</td>\n",
       "      <td>441</td>\n",
       "      <td>7/30/2017</td>\n",
       "      <td>8/1/2017</td>\n",
       "      <td>7 - Arson</td>\n",
       "      <td>&lt;Null&gt;</td>\n",
       "      <td>2289</td>\n",
       "      <td>2284.5960</td>\n",
       "      <td>1 - GPS Ground</td>\n",
       "      <td>Suppression (Wildfire)</td>\n",
       "    </tr>\n",
       "    <tr>\n",
       "      <th>2</th>\n",
       "      <td>2017</td>\n",
       "      <td>California</td>\n",
       "      <td>California Department of Forestry and Fire Pro...</td>\n",
       "      <td>Tulare County</td>\n",
       "      <td>ELEPHANT 2</td>\n",
       "      <td>420</td>\n",
       "      <td>7/20/2017</td>\n",
       "      <td>7/22/2017</td>\n",
       "      <td>7 - Arson</td>\n",
       "      <td>&lt;Null&gt;</td>\n",
       "      <td>416</td>\n",
       "      <td>415.2116</td>\n",
       "      <td>1 - GPS Ground</td>\n",
       "      <td>Suppression (Wildfire)</td>\n",
       "    </tr>\n",
       "    <tr>\n",
       "      <th>3</th>\n",
       "      <td>2017</td>\n",
       "      <td>California</td>\n",
       "      <td>California Department of Forestry and Fire Pro...</td>\n",
       "      <td>Tehama - Glenn CAL FIRE</td>\n",
       "      <td>TEHAMA</td>\n",
       "      <td>10345</td>\n",
       "      <td>10/30/2017</td>\n",
       "      <td>10/31/2017</td>\n",
       "      <td>10 - Vehicle</td>\n",
       "      <td>&lt;Null&gt;</td>\n",
       "      <td>194</td>\n",
       "      <td>194.0017</td>\n",
       "      <td>1 - GPS Ground</td>\n",
       "      <td>Suppression (Wildfire)</td>\n",
       "    </tr>\n",
       "    <tr>\n",
       "      <th>4</th>\n",
       "      <td>2017</td>\n",
       "      <td>California</td>\n",
       "      <td>California Department of Forestry and Fire Pro...</td>\n",
       "      <td>Tuolumne - Calaveras CAL FIRE</td>\n",
       "      <td>JACKSONVILLE</td>\n",
       "      <td>9024</td>\n",
       "      <td>7/29/2017</td>\n",
       "      <td>7/30/2017</td>\n",
       "      <td>14 - Unknown / Unidentified</td>\n",
       "      <td>&lt;Null&gt;</td>\n",
       "      <td>&lt;Null&gt;</td>\n",
       "      <td>684.3565</td>\n",
       "      <td>1 - GPS Ground</td>\n",
       "      <td>Suppression (Wildfire)</td>\n",
       "    </tr>\n",
       "  </tbody>\n",
       "</table>\n",
       "</div>"
      ],
      "text/plain": [
       "   YEAR       STATE                                             AGENCY  \\\n",
       "0  2017  California  California Department of Forestry and Fire Pro...   \n",
       "1  2017  California  California Department of Forestry and Fire Pro...   \n",
       "2  2017  California  California Department of Forestry and Fire Pro...   \n",
       "3  2017  California  California Department of Forestry and Fire Pro...   \n",
       "4  2017  California  California Department of Forestry and Fire Pro...   \n",
       "\n",
       "                         UNIT_ID     FIRE_NAME INC_NUM  ALARM_DATE  \\\n",
       "0                  Tulare County        DINELY     286    6/7/2017   \n",
       "1                  Tulare County    ROADRUNNER     441   7/30/2017   \n",
       "2                  Tulare County    ELEPHANT 2     420   7/20/2017   \n",
       "3        Tehama - Glenn CAL FIRE        TEHAMA   10345  10/30/2017   \n",
       "4  Tuolumne - Calaveras CAL FIRE  JACKSONVILLE    9024   7/29/2017   \n",
       "\n",
       "    CONT_DATE                        CAUSE COMMENTS REPORT_AC  GIS_ACRES  \\\n",
       "0   6/11/2017            2 - Equipment Use   <Null>       339   340.5638   \n",
       "1    8/1/2017                    7 - Arson   <Null>      2289  2284.5960   \n",
       "2   7/22/2017                    7 - Arson   <Null>       416   415.2116   \n",
       "3  10/31/2017                 10 - Vehicle   <Null>       194   194.0017   \n",
       "4   7/30/2017  14 - Unknown / Unidentified   <Null>    <Null>   684.3565   \n",
       "\n",
       "         C_METHOD               OBJECTIVE  \n",
       "0  1 - GPS Ground  Suppression (Wildfire)  \n",
       "1  1 - GPS Ground  Suppression (Wildfire)  \n",
       "2  1 - GPS Ground  Suppression (Wildfire)  \n",
       "3  1 - GPS Ground  Suppression (Wildfire)  \n",
       "4  1 - GPS Ground  Suppression (Wildfire)  "
      ]
     },
     "execution_count": 7,
     "metadata": {},
     "output_type": "execute_result"
    }
   ],
   "source": [
    "#get rid of null values in YEAR column \n",
    "no_nulls = total_fires[total_fires[\"YEAR\"] != \"<Null>\"]\n",
    "x = no_nulls[\"YEAR\"].unique()[-1]\n",
    "no_nulls = no_nulls[no_nulls[\"YEAR\"].notna()]\n",
    "no_nulls.head()"
   ]
  },
  {
   "cell_type": "code",
   "execution_count": 8,
   "metadata": {},
   "outputs": [],
   "source": [
    "#with_nan = Table.from_df(no_nulls)\n",
    "#sorted=with_nan.sort(\"YEAR\", descending = True)\n",
    "#there are nan values that we want to get rid of!"
   ]
  },
  {
   "cell_type": "code",
   "execution_count": 9,
   "metadata": {},
   "outputs": [],
   "source": [
    "#fires=sorted.where('YEAR', are.not_equal_to('nan'))"
   ]
  },
  {
   "cell_type": "code",
   "execution_count": 37,
   "metadata": {},
   "outputs": [],
   "source": [
    "#we've cleaned the data!! Now we only have valid years in our YEAR column "
   ]
  },
  {
   "cell_type": "code",
   "execution_count": null,
   "metadata": {},
   "outputs": [],
   "source": []
  }
 ],
 "metadata": {
  "kernelspec": {
   "display_name": "Python 3",
   "language": "python",
   "name": "python3"
  },
  "language_info": {
   "codemirror_mode": {
    "name": "ipython",
    "version": 3
   },
   "file_extension": ".py",
   "mimetype": "text/x-python",
   "name": "python",
   "nbconvert_exporter": "python",
   "pygments_lexer": "ipython3",
   "version": "3.6.4"
  }
 },
 "nbformat": 4,
 "nbformat_minor": 2
}
